{
  "cells": [
    {
      "cell_type": "code",
      "execution_count": null,
      "metadata": {
        "id": "AXeMbupFzvka"
      },
      "outputs": [],
      "source": [
        "import torch\n",
        "import numpy as np\n",
        "import pandas as pd\n",
        "import matplotlib.pyplot as plt\n",
        "import random\n",
        "import matplotlib as plt\n",
        "\n",
        "\n",
        "def onehot(task, num_rules):\n",
        "    task_onehot = np.zeros((task.size, num_rules))\n",
        "    task_onehot[np.arange(task.size), task] = 1.\n",
        "    return task_onehot\n"
      ]
    },
    {
      "cell_type": "code",
      "execution_count": null,
      "metadata": {},
      "outputs": [],
      "source": [
        "def data_v2(num_examples, num_rules, data_seed, ood=False, prob=None):\n",
        "    rng = np.random.RandomState(data_seed)\n",
        "    coeff1 = rng.randn(num_rules)\n",
        "    coeff2 = rng.randn(num_rules)\n",
        "\n",
        "    a = np.random.randn(num_examples, 1)\n",
        "    b = np.random.randn(num_examples, 1)\n",
        "\n",
        "    if ood:\n",
        "        a = a * 2\n",
        "        b = b * 2\n",
        "\n",
        "    if prob is not None:\n",
        "        task = np.random.choice(num_rules, size=num_examples, p=prob)\n",
        "    else:\n",
        "        task = np.random.choice(num_rules, size=num_examples)\n",
        "    task = onehot(task, num_rules)\n",
        "\n",
        "    result = np.zeros([num_examples, num_rules])\n",
        "\n",
        "    for r in range(num_rules):\n",
        "        result[:, r] = (coeff1[r] * a + coeff2[r] * b)[:, 0]\n",
        "\n",
        "    result = np.sum(result * task, axis=-1)\n",
        "    sample = np.concatenate((a, b, task), axis=-1)\n",
        "\n",
        "    return sample, result, coeff1, coeff2\n"
      ]
    },
    {
      "cell_type": "code",
      "execution_count": null,
      "metadata": {},
      "outputs": [],
      "source": [
        "x, y, a, b = data_v2(2, 3, 0)"
      ]
    },
    {
      "cell_type": "code",
      "execution_count": null,
      "metadata": {},
      "outputs": [],
      "source": [
        "x, y, a, b"
      ]
    },
    {
      "cell_type": "code",
      "execution_count": null,
      "metadata": {},
      "outputs": [],
      "source": [
        "(x[1][0] * a[0]) + (x[1][1] * b[0])\n"
      ]
    }
  ],
  "metadata": {
    "accelerator": "GPU",
    "colab": {
      "collapsed_sections": [],
      "machine_shape": "hm",
      "name": "Experiments",
      "provenance": []
    },
    "kernelspec": {
      "display_name": "Python 3",
      "name": "python3"
    },
    "language_info": {
      "codemirror_mode": {
        "name": "ipython",
        "version": 3
      },
      "file_extension": ".py",
      "mimetype": "text/x-python",
      "name": "python",
      "nbconvert_exporter": "python",
      "pygments_lexer": "ipython3",
      "version": "3.9.5"
    }
  },
  "nbformat": 4,
  "nbformat_minor": 0
}
