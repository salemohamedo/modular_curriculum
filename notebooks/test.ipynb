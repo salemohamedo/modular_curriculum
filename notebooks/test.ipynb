{
 "cells": [
  {
   "cell_type": "code",
   "execution_count": null,
   "metadata": {},
   "outputs": [],
   "source": [
    "import matplotlib.pyplot as plt\n",
    "import seaborn as sns\n",
    "import pandas as pd\n",
    "import pickle\n",
    "\n",
    "RESULTS_DIR = '../results/curriculum_set1'\n",
    "# hue_order = ['mod', 'mod_dich']\n",
    "hue_order = ['mod', 'mod_dich']\n",
    "\n",
    "\n",
    "RESULTS_PATH = '../results/curriculum_set1/eval_results.pk'\n",
    "\n",
    "with open(RESULTS_PATH, 'rb') as f:\n",
    "    p = pickle.load(f)\n",
    "# pd.read_pickle(RESULTS_PATH)\n"
   ]
  }
 ],
 "metadata": {
  "kernelspec": {
   "display_name": "Python 3.9.5 ('modular_curriculum')",
   "language": "python",
   "name": "python3"
  },
  "language_info": {
   "codemirror_mode": {
    "name": "ipython",
    "version": 3
   },
   "file_extension": ".py",
   "mimetype": "text/x-python",
   "name": "python",
   "nbconvert_exporter": "python",
   "pygments_lexer": "ipython3",
   "version": "3.9.5"
  },
  "orig_nbformat": 4,
  "vscode": {
   "interpreter": {
    "hash": "ed9ef504d230a483407366f3ed5271c1ad03901f1f249697562c7644a50628a8"
   }
  }
 },
 "nbformat": 4,
 "nbformat_minor": 2
}
