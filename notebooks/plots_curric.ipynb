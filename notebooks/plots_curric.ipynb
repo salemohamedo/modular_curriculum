{
 "cells": [
  {
   "cell_type": "code",
   "execution_count": null,
   "metadata": {},
   "outputs": [],
   "source": [
    "import matplotlib.pyplot as plt\n",
    "import seaborn as sns\n",
    "import pandas as pd\n",
    "from utils.utils import load_df\n",
    "from utils.plots import plot_perf, plot_train_convergence, plot_spec_metric, plot_spec_metric_2\n",
    "from pathlib import Path\n",
    "\n",
    "sns.set()\n",
    "\n",
    "palette = {\"sequential\": \"blue\", \"incremental\": \"orange\", \"baseline\" : \"green\"}\n",
    "hue_order = ['baseline', 'incremental', 'sequential']\n",
    "hue = 'curriculum_setting'\n",
    "hue_settings = {\"hue\": hue, \"palette\": palette, \"hue_order\": hue_order}\n",
    "\n",
    "BASE_DIR = Path('results/curriculum_set1_64')\n",
    "FIG_DIR = Path('figures/curriculum_set1_64')\n"
   ]
  },
  {
   "cell_type": "code",
   "execution_count": null,
   "metadata": {},
   "outputs": [],
   "source": [
    "df = load_df(BASE_DIR / 'eval_results.pk')\n",
    "df.loc[df['curriculum_setting'] == 'vanilla',\n",
    "       'curriculum_setting'] = 'baseline'\n",
    "df = df.loc[df['setting'] == 'mod_dich']\n",
    "df = df.loc[df['seq_len'] == 10]  # Only look at train seq_len\n",
    "df = df.loc[df['n_op'] < 64]\n",
    "plot_perf(df, save_path=(FIG_DIR / 'perf_mod_dich.png'), **hue_settings)\n",
    "\n",
    "\n",
    "df = load_df(BASE_DIR / 'eval_results.pk')\n",
    "\n",
    "df.loc[df['curriculum_setting'] == 'vanilla',\n",
    "       'curriculum_setting'] = 'baseline'\n",
    "df = df.loc[df['setting'] == 'mod']\n",
    "df = df.loc[df['seq_len'] == 10]  # Only look at train seq_len\n",
    "df = df.loc[df['n_op'] < 64]\n",
    "plot_perf(df, save_path=(FIG_DIR / 'perf_mod.png'), **hue_settings)\n"
   ]
  },
  {
   "cell_type": "code",
   "execution_count": null,
   "metadata": {},
   "outputs": [],
   "source": [
    "sns.set(rc={'figure.figsize': (11.7, 8.27)})\n",
    "\n",
    "df = load_df(BASE_DIR / 'spec_results.pk')\n",
    "df = df.loc[(df['seq_len'] == 10)]\n",
    "df = df.loc[df['n_op'] < 64]\n",
    "df.loc[df['curriculum_setting'] == 'vanilla',\n",
    "       'curriculum_setting'] = 'baseline'\n",
    "df = df.groupby(by=['n_op', 'type', 'setting',\n",
    "                'curriculum_setting', 'model', 'x_dim', 'data_seed'], as_index=False).mean()\n",
    "\n",
    "plot_spec_metric_2(df, y='spec', ylabel='Adaptation', save_path=(\n",
    "    FIG_DIR / 'adapt.png'), **hue_settings)\n"
   ]
  },
  {
   "cell_type": "code",
   "execution_count": null,
   "metadata": {},
   "outputs": [],
   "source": [
    "\n",
    "df = load_df(BASE_DIR / 'prob_results.pk')\n",
    "df.loc[df['curriculum_setting'] == 'vanilla',\n",
    "       'curriculum_setting'] = 'baseline'\n",
    "df = df.loc[(df['seq_len'] == 10)]\n",
    "df = df.loc[df['n_op'] < 64]\n",
    "df = df.groupby(by=['n_op', 'type', 'setting',\n",
    "                'curriculum_setting', 'model', 'x_dim', 'data_seed'], as_index=False).mean()\n",
    "\n",
    "\n",
    "plot_spec_metric_2(df=df, y='collapse_avg', ylabel='Collapse Avg', save_path=(\n",
    "    FIG_DIR / 'collapse_avg.png'), **hue_settings)\n",
    "plot_spec_metric_2(df=df, y='collapse_worst',\n",
    "                   ylabel='Collapse Worst', save_path=(FIG_DIR / 'collapse_worst.png'), **hue_settings)\n",
    "plot_spec_metric_2(df=df, y='hungarian', ylabel='Alignment',\n",
    "                   save_path=(FIG_DIR / 'alignment.png'), **hue_settings)\n"
   ]
  }
 ],
 "metadata": {
  "interpreter": {
   "hash": "ed9ef504d230a483407366f3ed5271c1ad03901f1f249697562c7644a50628a8"
  },
  "kernelspec": {
   "display_name": "Python 3.9.5 ('modular_curriculum')",
   "language": "python",
   "name": "python3"
  },
  "language_info": {
   "codemirror_mode": {
    "name": "ipython",
    "version": 3
   },
   "file_extension": ".py",
   "mimetype": "text/x-python",
   "name": "python",
   "nbconvert_exporter": "python",
   "pygments_lexer": "ipython3",
   "version": "3.9.5"
  },
  "orig_nbformat": 4
 },
 "nbformat": 4,
 "nbformat_minor": 2
}
