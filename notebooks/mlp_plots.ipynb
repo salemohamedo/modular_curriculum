{
 "cells": [
  {
   "cell_type": "code",
   "execution_count": null,
   "metadata": {},
   "outputs": [],
   "source": [
    "# from eval import load_results_df\n",
    "import matplotlib.pyplot as plt\n",
    "import seaborn as sns\n",
    "\n",
    "RESULTS_DIR = './results/set1_mlp'\n",
    "hue_order = ['mod', 'mod_dich']"
   ]
  },
  {
   "cell_type": "code",
   "execution_count": null,
   "metadata": {},
   "outputs": [],
   "source": [
    "import matplotlib.pyplot as plt\n",
    "import seaborn as sns\n",
    "import pandas as pd\n",
    "\n",
    "\n",
    "sns.set(rc={'figure.figsize': (11.7, 8.27)})\n",
    "sns.color_palette(\"dark\", as_cmap=True)\n",
    "\n",
    "\n",
    "RESULTS_PATH = '../results/set1_mlp/eval_results.pk'\n",
    "\n",
    "def load_df(path):\n",
    "    return pd.read_pickle(path)\n",
    "df = load_df(RESULTS_PATH)\n",
    "# gb_cols = df.columns.to_list()\n",
    "# gb_cols.remove('seed')\n",
    "# gb_cols.remove('value')\n",
    "# df = df.groupby(gb_cols, as_index=False).mean()\n",
    "\n",
    "fig, axes = plt.subplots(2, 2)\n",
    "def make_plot(df, ax):\n",
    "    sns.lineplot(data=df, x='n_op', y='value', hue='setting',\n",
    "                 ax=ax, palette={\"mod\": \"blue\", \"mod_dich\": \"orange\"}, hue_order=hue_order)\n",
    "\n",
    "df.loc[df['metric'] == 'acc', 'value'] = 1 - df['value'] ## change accuracies to errors\n",
    "df.loc[df['metric'] == 'acc', 'metric'] = 'error'\n",
    "\n",
    "for ax, col in zip(axes[0], ['ID', 'OOD']):\n",
    "    ax.set_title(col)\n",
    "for i, t in enumerate(['regression', 'classification']):\n",
    "    for j, d in enumerate(['iid', 'ood']):\n",
    "        metric = 'error' if t == 'classification' else 'loss'\n",
    "        make_plot(\n",
    "            df.loc[(df['type'] == t) \n",
    "            & (df['dist'] == d) \n",
    "            & (df['metric'] == metric)], \n",
    "            axes[i][j])\n",
    "        axes[i][j].set_ylabel(metric)\n",
    "        axes[i][j].set_xlabel('rules')\n",
    "fig.savefig('../figures/mlp_set1/perf_seq_len_ood.png')\n",
    "\n",
    "\n",
    "\n",
    "\n"
   ]
  },
  {
   "cell_type": "code",
   "execution_count": null,
   "metadata": {},
   "outputs": [],
   "source": [
    "df"
   ]
  },
  {
   "cell_type": "code",
   "execution_count": null,
   "metadata": {},
   "outputs": [],
   "source": [
    "sns.set(rc={'figure.figsize': (11.7, 8.27)})\n",
    "\n",
    "df = load_df('../results/set1_mlp/spec_results.pk')\n",
    "# gb_cols = df.columns.to_list()\n",
    "# gb_cols.remove('seed')\n",
    "# gb_cols.remove('spec')\n",
    "# df = df.groupby(gb_cols, as_index=False).mean()\n",
    "\n",
    "# sns.barplot(x='n_op', y='spec', hue='setting', palette={\"mod\": \"blue\", \"mod_dich\": \"orange\"}, data=df_class)\n",
    "\n",
    "fig, axes = plt.subplots(1, 2, figsize=(12, 6))\n",
    "df_reg = df.loc[df['type'] == 'regression']\n",
    "sns.barplot(x='n_op', y='spec', hue='setting', palette={\n",
    "            \"mod\": \"blue\", \"mod_dich\": \"orange\"}, data=df_reg, ax=axes[0], hue_order=hue_order)\n",
    "axes[0].set_ylabel('Adaptation')\n",
    "axes[0].set_xlabel('# Rules')\n",
    "axes[0].set_title('Regression')\n",
    "\n",
    "df_class = df.loc[df['type'] == 'classification']\n",
    "sns.barplot(x='n_op', y='spec', hue='setting', palette={\n",
    "            \"mod\": \"blue\", \"mod_dich\": \"orange\"}, data=df_class, ax=axes[1], hue_order=hue_order)\n",
    "axes[1].set_ylabel('Adaptation')\n",
    "axes[1].set_xlabel('# Rules')\n",
    "axes[1].set_title('Classification')\n",
    "fig.savefig('../figures/mlp_set1/specialization.png')\n"
   ]
  },
  {
   "cell_type": "code",
   "execution_count": null,
   "metadata": {},
   "outputs": [],
   "source": [
    "sns.set(rc={'figure.figsize': (11.7, 8.27)})\n",
    "\n",
    "df = load_df('../results/set1_mlp/collapse_results.pk')\n",
    "gb_cols = df.columns.to_list()\n",
    "# gb_cols.remove('data_seed')\n",
    "# gb_cols.remove('spec')\n",
    "# df = df.groupby(gb_cols, as_index=False).mean()\n",
    "\n",
    "# sns.barplot(x='n_op', y='spec', hue='setting', palette={\"mod\": \"blue\", \"mod_dich\": \"orange\"}, data=df_class)\n",
    "df_class\n",
    "\n",
    "fig, axes = plt.subplots(1, 2, figsize=(12, 6))\n",
    "df_reg = df.loc[df['type'] == 'regression']\n",
    "sns.barplot(x='n_op', y='collapse_avg', hue='setting', palette={\n",
    "            \"mod\": \"blue\", \"mod_dich\": \"orange\"}, data=df_reg, ax=axes[0], hue_order=hue_order)\n",
    "axes[0].set_ylabel('Collapse')\n",
    "axes[0].set_xlabel('# Rules')\n",
    "axes[0].set_title('Regression')\n",
    "\n",
    "df_class = df.loc[df['type'] == 'classification']\n",
    "sns.barplot(x='n_op', y='collapse_avg', hue='setting', palette={\n",
    "            \"mod\": \"blue\", \"mod_dich\": \"orange\"}, data=df_class, ax=axes[1], hue_order=hue_order)\n",
    "axes[1].set_ylabel('Collapse')\n",
    "axes[1].set_xlabel('# Rules')\n",
    "axes[1].set_title('Classification')\n",
    "fig.savefig('../figures/mlp_set1/collapse_avg.png')\n"
   ]
  },
  {
   "cell_type": "code",
   "execution_count": null,
   "metadata": {},
   "outputs": [],
   "source": [
    "sns.set(rc={'figure.figsize': (11.7, 8.27)})\n",
    "\n",
    "df = load_df('../results/set1_mlp/collapse_results.pk')\n",
    "# df = df.loc[(df['seq_len'] == 10)]\n",
    "# gb_cols = df.columns.to_list()\n",
    "# gb_cols.remove('seed')\n",
    "# gb_cols.remove('spec')\n",
    "# df = df.groupby(gb_cols, as_index=False).mean()\n",
    "\n",
    "# sns.barplot(x='n_op', y='spec', hue='setting', palette={\"mod\": \"blue\", \"mod_dich\": \"orange\"}, data=df_class)\n",
    "df_class\n",
    "\n",
    "fig, axes = plt.subplots(1, 2, figsize=(12, 6))\n",
    "df_reg = df.loc[df['type'] == 'regression']\n",
    "sns.barplot(x='n_op', y='collapse_worst', hue='setting', palette={\n",
    "            \"mod\": \"blue\", \"mod_dich\": \"orange\"}, data=df_reg, ax=axes[0], hue_order=hue_order)\n",
    "axes[0].set_ylabel('Collapse')\n",
    "axes[0].set_xlabel('# Rules')\n",
    "axes[0].set_title('Regression')\n",
    "\n",
    "df_class = df.loc[df['type'] == 'classification']\n",
    "sns.barplot(x='n_op', y='collapse_worst', hue='setting', palette={\n",
    "            \"mod\": \"blue\", \"mod_dich\": \"orange\"}, data=df_class, ax=axes[1], hue_order=hue_order)\n",
    "axes[1].set_ylabel('Collapse')\n",
    "axes[1].set_xlabel('# Rules')\n",
    "axes[1].set_title('Classification')\n",
    "fig.savefig('../figures/mlp_set1/collapse_worst.png')\n"
   ]
  },
  {
   "cell_type": "code",
   "execution_count": null,
   "metadata": {},
   "outputs": [],
   "source": [
    "res = df[['epoch', 'loss']].sort_values(by=['epoch'], ascending=True)"
   ]
  },
  {
   "cell_type": "code",
   "execution_count": null,
   "metadata": {},
   "outputs": [],
   "source": [
    "plt.plot(res['epoch'], res['loss'])\n",
    "plt.xlabel('Epoch')\n",
    "plt.ylabel('Mean Absolute Error')"
   ]
  }
 ],
 "metadata": {
  "interpreter": {
   "hash": "ed9ef504d230a483407366f3ed5271c1ad03901f1f249697562c7644a50628a8"
  },
  "kernelspec": {
   "display_name": "Python 3.9.5 ('modular_curriculum')",
   "language": "python",
   "name": "python3"
  },
  "language_info": {
   "codemirror_mode": {
    "name": "ipython",
    "version": 3
   },
   "file_extension": ".py",
   "mimetype": "text/x-python",
   "name": "python",
   "nbconvert_exporter": "python",
   "pygments_lexer": "ipython3",
   "version": "3.9.5"
  },
  "orig_nbformat": 4
 },
 "nbformat": 4,
 "nbformat_minor": 2
}
